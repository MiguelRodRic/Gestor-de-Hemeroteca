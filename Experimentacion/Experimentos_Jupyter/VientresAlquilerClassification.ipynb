{
 "cells": [
  {
   "cell_type": "code",
   "execution_count": 1,
   "metadata": {
    "extensions": {
     "jupyter_dashboards": {
      "version": 1,
      "views": {
       "grid_default": {
        "col": 0,
        "height": 4,
        "hidden": false,
        "row": 0,
        "width": 4
       },
       "report_default": {}
      }
     }
    }
   },
   "outputs": [
    {
     "name": "stdout",
     "output_type": "stream",
     "text": [
      "ok\n"
     ]
    }
   ],
   "source": [
    "# -*- coding: utf-8 -*-\n",
    "import pandas as pd\n",
    "import numpy as np\n",
    "import re\n",
    "from IPython.display import display\n",
    "from IPython.display import clear_output\n",
    "from IPython.display import HTML\n",
    "from ipywidgets import widgets\n",
    "import pymongo\n",
    "from pymongo import MongoClient\n",
    "import matplotlib\n",
    "import matplotlib.pyplot as plt\n",
    "import sys\n",
    "from textblob.blob import TextBlob\n",
    "from textblob.classifiers import NaiveBayesClassifier\n",
    "from textblob.classifiers import PositiveNaiveBayesClassifier\n",
    "import nltk \n",
    "from bs4 import BeautifulSoup\n",
    "import urllib2\n",
    "\n",
    "#nltk.download()\n",
    "\n",
    "cliente = MongoClient()\n",
    "db = cliente.test_database\n",
    "noticias = db.noticias\n",
    "\n",
    "\n",
    "\n",
    "linksAgainst = ['https://judithbosch.wordpress.com/2017/03/25/mi-vientre-no-se-alquila/', \n",
    "           'http://www.tribunafeminista.org/2017/02/dones-juristes-senala-los-intereses-de-lobbies-economicos-en-el-debate-del-alquiler-de-vientres/',\n",
    "           'http://www.tribunafeminista.org/2017/01/una-nueva-clausula-del-contrato-sexual-vientres-de-alquiler/',\n",
    "           'http://www.paralelo36andalucia.com/los-vientres-de-alquiler-la-cara-mas-brutal-del-gaypitalismo/',\n",
    "           'http://www.tribunafeminista.org/2017/02/explotacion-reproductiva/',\n",
    "           'https://beatrizgimeno.es/2017/03/18/vientres-de-alquiler-y-aborto/',\n",
    "           'http://www.elmundo.es/baleares/2017/02/03/5894548446163f836a8b4655.html',\n",
    "           'http://elpais.com/elpais/2016/05/06/tentaciones/1462535192_740903.html',\n",
    "           'http://elpais.com/elpais/2017/03/01/opinion/1488376776_471436.html',\n",
    "           'http://elpais.com/elpais/2017/02/13/opinion/1487011358_053416.html',\n",
    "           'http://elpais.com/elpais/2015/07/27/eps/1438008645_417941.html',\n",
    "           'http://elpais.com/elpais/2017/02/01/opinion/1485969099_452388.html']\n",
    "linksFor = ['http://www.elmundo.es/opinion/2017/02/11/589dfd6a468aeb24118b4616.html',\n",
    "           'http://www.deia.com/2016/10/09/sociedad/euskadi/mucho-mas-que-un-vientre',\n",
    "           'http://sociedad.elpais.com/sociedad/2014/05/01/actualidad/1398974404_290772.html',\n",
    "           'http://internacional.elpais.com/internacional/2017/02/22/mexico/1487799528_068485.html',\n",
    "           'http://elpais.com/elpais/2014/07/06/opinion/1404657061_919858.html',\n",
    "           'http://elpais.com/elpais/2017/02/25/opinion/1488039785_039670.html',\n",
    "           'http://internacional.elpais.com/internacional/2014/11/03/actualidad/1414999655_905774.html',\n",
    "           'http://politica.elpais.com/politica/2017/02/06/actualidad/1486383023_272932.html',\n",
    "           'http://elpais.com/elpais/2017/03/01/opinion/1488395907_827633.html',\n",
    "           'http://ccaa.elpais.com/ccaa/2015/12/29/valencia/1451385119_992970.html',\n",
    "           'http://elpais.com/elpais/2017/02/17/videos/1487339232_876585.html',\n",
    "           'http://www.elmundo.es/sociedad/2017/03/05/58bbe43cca4741c1428b4579.html']\n",
    "\n",
    "hdr = {'User-Agent': 'Mozilla/5.0 (X11; Linux x86_64) AppleWebKit/537.11 (KHTML, like Gecko) Chrome/23.0.1271.64 Safari/537.11',\n",
    "       'Accept': 'text/html,application/xhtml+xml,application/xml;q=0.9,*/*;q=0.8'}\n",
    "\n",
    "def filtroTexto(element):\n",
    "    if element.parent.name in ['style', 'script', '[document]', 'head', 'title']:\n",
    "        return False\n",
    "    elif re.match('<!--.-->', str(element)):\n",
    "        return False\n",
    "    else:\n",
    "        return True\n",
    "\n",
    "#Almacenamiento de las frases en contra\n",
    "noticiasAgainst = [None]*len(linksAgainst)\n",
    "for linkA in linksAgainst:\n",
    "    request = urllib2.Request(linkA, headers=hdr)\n",
    "    handle = urllib2.urlopen(request)\n",
    "    content = handle.read()\n",
    "    soup = BeautifulSoup(content, 'html.parser')\n",
    "    for expendable in soup(['style', 'script', '[document]', 'head', 'title']):\n",
    "        expendable.extract()\n",
    "    noticiasAgainst[linksAgainst.index(linkA)] = soup.getText()\n",
    "\n",
    "textsAgainst = [None]*len(noticiasAgainst)\n",
    "textSentencesAgainst = [None]*len(noticiasAgainst)\n",
    "\n",
    "for noticia in noticiasAgainst:\n",
    "    index = noticiasAgainst.index(noticia)\n",
    "    textsAgainst[index] = TextBlob(noticiasAgainst[index])   \n",
    "    sentencesAux = []\n",
    "    for sentence in textsAgainst[index].sentences:\n",
    "        sentencesAux.append((sentence,'enContra'))\n",
    "    textSentencesAgainst[index] = sentencesAux\n",
    "\n",
    "\n",
    "#Almacenamiento de las frases a favor\n",
    "noticiasFor = [None]*len(linksFor)\n",
    "for linkF in linksFor:\n",
    "    request = urllib2.Request(linkF, headers=hdr)\n",
    "    handle = urllib2.urlopen(request)\n",
    "    content = handle.read()\n",
    "    soup = BeautifulSoup(content, 'html.parser')\n",
    "    for expendable in soup(['style', 'script', '[document]', 'head', 'title']):\n",
    "        expendable.extract()\n",
    "    noticiasFor[linksFor.index(linkF)] = soup.getText()\n",
    "\n",
    "textsFor = [None]*len(noticiasFor)\n",
    "textSentencesFor = [None]*len(noticiasFor)\n",
    "\n",
    "for noticia in noticiasFor:\n",
    "    index = noticiasFor.index(noticia)\n",
    "    textsFor[index] = TextBlob(noticiasFor[index])\n",
    "    sentencesAux = []\n",
    "    for sentence in textsFor[index].sentences:\n",
    "        sentencesAux.append((sentence,'aFavor'))\n",
    "    textSentencesFor[index] = sentencesAux\n",
    "print 'ok'"
   ]
  },
  {
   "cell_type": "code",
   "execution_count": 2,
   "metadata": {
    "collapsed": true,
    "extensions": {
     "jupyter_dashboards": {
      "version": 1,
      "views": {
       "grid_default": {
        "hidden": true
       },
       "report_default": {}
      }
     }
    }
   },
   "outputs": [],
   "source": [
    "trainset = []\n",
    "#Nos vamos a quedar solo con 300 sentencias de cada tipo\n",
    "#Con los ejemplos dados, hay muchas mas sentencias en contra que a favor\n",
    "#lo cual puede empujar al clasificador a clasificar todo como en contra\n",
    "contadorAgainst = 0\n",
    "contadorFor = 0\n",
    "limite = 300 \n",
    "limiteCross = 350\n",
    "paraY1Out = []\n",
    "\n",
    "#Cogemos otro conjunto para las validaciones cruzadas de sklearn\n",
    "\n",
    "for sentences in textSentencesFor:\n",
    "    for sentence in sentences:\n",
    "        if contadorFor < limite:\n",
    "            trainset.append(sentence)\n",
    "            contadorFor += 1\n",
    "        elif contadorFor < limiteCross:\n",
    "            paraY1Out.append(sentence)\n",
    "            contadorFor += 1\n",
    "for sentences in textSentencesAgainst:\n",
    "    for sentence in sentences:\n",
    "        if contadorAgainst < limite:\n",
    "            trainset.append(sentence)\n",
    "            contadorAgainst += 1\n",
    "        elif contadorAgainst < limiteCross:\n",
    "            paraY1Out.append(sentence)\n",
    "            contadorAgainst += 1\n"
   ]
  },
  {
   "cell_type": "code",
   "execution_count": 7,
   "metadata": {
    "collapsed": true,
    "extensions": {
     "jupyter_dashboards": {
      "version": 1,
      "views": {
       "grid_default": {
        "hidden": true
       },
       "report_default": {}
      }
     }
    }
   },
   "outputs": [],
   "source": [
    "classifier = NaiveBayesClassifier(trainset)"
   ]
  },
  {
   "cell_type": "code",
   "execution_count": 8,
   "metadata": {
    "extensions": {
     "jupyter_dashboards": {
      "version": 1,
      "views": {
       "grid_default": {
        "col": 4,
        "height": 4,
        "hidden": false,
        "row": 0,
        "width": 4
       },
       "report_default": {}
      }
     }
    }
   },
   "outputs": [
    {
     "data": {
      "text/plain": [
       "'enContra:0.0'"
      ]
     },
     "execution_count": 8,
     "metadata": {},
     "output_type": "execute_result"
    }
   ],
   "source": [
    "classifier.classify('la gestación subrogada es una práctica de reproducción que se realiza desde hace más de treinta años.') +\":\" +str(round(classifier.prob_classify('En Estados Unidos, la gestación subrogada es una práctica de reproducción que se realiza desde hace más de treinta años.').prob(\"aFavor\"), 2))\n",
    "for sentence in trainset:\n",
    "    if round(classifier.prob_classify(sentence[0]).prob(\"enContra\"), 2) > 0:\n",
    "        print sentence[0] + \"\\n\" +  classifier.classify(sentence[0]) + str(round(classifier.prob_classify(sentence[0]).prob(\"enContra\"), 2))"
   ]
  },
  {
   "cell_type": "code",
   "execution_count": null,
   "metadata": {
    "collapsed": true,
    "extensions": {
     "jupyter_dashboards": {
      "version": 1,
      "views": {
       "grid_default": {
        "hidden": true
       },
       "report_default": {}
      }
     }
    }
   },
   "outputs": [],
   "source": []
  },
  {
   "cell_type": "code",
   "execution_count": 3,
   "metadata": {
    "extensions": {
     "jupyter_dashboards": {
      "version": 1,
      "views": {
       "grid_default": {
        "col": 8,
        "height": 4,
        "hidden": false,
        "row": 0,
        "width": 4
       },
       "report_default": {}
      }
     }
    }
   },
   "outputs": [
    {
     "name": "stdout",
     "output_type": "stream",
     "text": [
      "[  3.  12.   1. ...,   1.   0.   0.]\n",
      "[ 52.   0.   0. ...,   0.  10.   7.]\n",
      "Ratio of alquiler\n",
      "0.396460176991\n"
     ]
    }
   ],
   "source": [
    "#PARTE SCIKIT \n",
    "\n",
    "from sklearn.model_selection import train_test_split\n",
    "from sklearn.model_selection import LeaveOneOut\n",
    "from sklearn.model_selection import LeavePOut\n",
    "from sklearn.model_selection import ShuffleSplit\n",
    "from sklearn.feature_extraction.text import CountVectorizer\n",
    "from sklearn.naive_bayes import MultinomialNB\n",
    "from sklearn import metrics\n",
    "from sklearn.linear_model import LogisticRegression\n",
    "\n",
    "loo = LeaveOneOut()\n",
    "\n",
    "\n",
    "nb = MultinomialNB()\n",
    "labels = ['text','opinion']\n",
    "import pandas as pd \n",
    "trainsetSK = []\n",
    "for sentence in trainset:\n",
    "    trainsetSK.append((str(sentence[0]).decode(\"utf-8\"),sentence[1]))\n",
    "\n",
    "tabla = pd.DataFrame.from_records(trainsetSK, columns=labels)\n",
    "\n",
    "tabla['opinion_num'] = tabla.opinion.map({'aFavor':0, 'enContra':1})\n",
    "X = tabla.text\n",
    "Y = tabla.opinion\n",
    "\n",
    "#Split the data to obtain training sentences, training labels, test sentences and test labels\n",
    "X_train, X_test, Y_train, Y_test = train_test_split(X, Y, random_state=1)\n",
    "\n",
    "vect = CountVectorizer()\n",
    "\n",
    "#Learns the training data and creates a document-term matrix from it in one step\n",
    "X_train_dtm = vect.fit_transform(X_train)\n",
    "\n",
    "#Same thing with the testing data\n",
    "X_test_dtm = vect.transform(X_test)\n",
    "\n",
    "#Naive Bayes is much faster than other alternatives\n",
    "nb.fit(X_train_dtm, Y_train)\n",
    "\n",
    "#Make class predictions from X_test_dtm\n",
    "Y_pred_class = nb.predict(X_test_dtm)\n",
    "\"\"\"\n",
    "print(metrics.accuracy_score(Y_test, Y_pred_class))\n",
    "#Confusion matrix\n",
    "print(metrics.confusion_matrix(Y_test, Y_pred_class))\n",
    "#print false positives\n",
    "print(X_test[(Y_pred_class==1) & (Y_test==0)])\n",
    "\"\"\"\n",
    "\n",
    "logreg = LogisticRegression()\n",
    "\n",
    "#Prepares training data, for labels and messages\n",
    "logreg.fit(X_train_dtm, Y_train)\n",
    "\n",
    "#Make class predictions for X_test_dtm\n",
    "Y_pred_class = logreg.predict(X_test_dtm)\n",
    "\n",
    "#Calculate predicted probabilities for X_test_dtm\n",
    "y_pred_prob = logreg.predict_proba(X_test_dtm)[:,1]\n",
    "\n",
    "X_train_tokens = vect.get_feature_names()\n",
    "\n",
    "\n",
    "#Count the number of appereances of each token\n",
    "\"\"\"\n",
    "print(nb.feature_count_)\n",
    "\"\"\"\n",
    "support_token_count = nb.feature_count_[0, :]\n",
    "\n",
    "print(support_token_count)\n",
    "\n",
    "against_token_count = nb.feature_count_[1, :]\n",
    "\n",
    "print(against_token_count )\n",
    "\n",
    "#Create a table with the results\n",
    "tokens = pd.DataFrame({'token':X_train_tokens, 'support':support_token_count, 'against':against_token_count}).set_index('token')\n",
    "\n",
    "#As it has too many members, we will try random samples\n",
    "\"\"\"\n",
    "print('Random sample')\n",
    "print(tokens.sample(20, random_state=6))\n",
    "\"\"\"\n",
    "\n",
    "#We sum up 1 to avoid dividing by 0 or surrealistic results\n",
    "tokens['support'] = tokens.support + 1\n",
    "tokens['against'] = tokens.against + 1\n",
    "\n",
    "#Calculates the frequency of each word to be in spam or ham\n",
    "tokens['support'] = tokens.support / (nb.class_count_[0])\n",
    "tokens['against'] = tokens.against / (nb.class_count_[1])\n",
    "\n",
    "#Now, we can see frequency of each word\n",
    "\"\"\"\n",
    "print('Frequencies of each word in spam and ham')\n",
    "print(tokens.sample(20, random_state=6))\n",
    "\"\"\"\n",
    "\n",
    "#Now we calculate the spam ratio\n",
    "tokens['support_ratio'] = tokens.support / tokens.against\n",
    "\"\"\"\n",
    "print('Spam ratio of words')\n",
    "print(tokens.sample(20, random_state=6))\n",
    "\"\"\"\n",
    "#Now we can look for the spamminess of one word in particular\n",
    "\n",
    "print('Ratio of alquiler')\n",
    "print(tokens.loc['alquiler', 'support_ratio'])"
   ]
  },
  {
   "cell_type": "code",
   "execution_count": 19,
   "metadata": {
    "extensions": {
     "jupyter_dashboards": {
      "version": 1,
      "views": {
       "grid_default": {
        "col": 0,
        "height": 4,
        "hidden": false,
        "row": 4,
        "width": 4
       },
       "report_default": {}
      }
     }
    }
   },
   "outputs": [
    {
     "data": {
      "text/plain": [
       "75287520"
      ]
     },
     "execution_count": 19,
     "metadata": {},
     "output_type": "execute_result"
    }
   ],
   "source": [
    "#Leave One out and Leave P Out examples\n",
    "\n",
    "from sklearn.model_selection import LeaveOneOut\n",
    "\n",
    "X_Leave1Out = np.array(trainset[0:100])\n",
    "Y_Leave1Out = np.array(paraY1Out)\n",
    "\n",
    "for train_index, test_index in loo.split(X_Leave1Out):\n",
    "    #print (\"Train: \", train_index, \"Test: \", test_index)\n",
    "    x_trainaux, x_testaux = X_Leave1Out[train_index],  X_Leave1Out[test_index]\n",
    "    y_trainaux, y_testaux = Y_Leave1Out[train_index], Y_Leave1Out[test_index]\n",
    "    #print(x_trainaux, x_testaux, y_trainaux, y_testaux)\n",
    "\n",
    "from sklearn.model_selection import LeavePOut\n",
    "\n",
    "lpo = LeavePOut(p=5)\n",
    "\n",
    "X_LeavePOut = X_Leave1Out\n",
    "Y_LeavePOut = Y_Leave1Out\n",
    "\n",
    "lpo.get_n_splits(X_LeavePOut)"
   ]
  },
  {
   "cell_type": "code",
   "execution_count": 27,
   "metadata": {
    "extensions": {
     "jupyter_dashboards": {
      "version": 1,
      "views": {
       "grid_default": {
        "col": 4,
        "height": 12,
        "hidden": false,
        "row": 4,
        "width": 4
       },
       "report_default": {}
      }
     }
    }
   },
   "outputs": [
    {
     "name": "stdout",
     "output_type": "stream",
     "text": [
      "[0 0]\n",
      "\n",
      "Accuracy on predicting the training sentences\n",
      "0.988095238095\n",
      "\n",
      "Accuracy on predicting the test sentences\n",
      "0.838888888889\n",
      "\n",
      "Confusion Matrix\n",
      "[[70 15]\n",
      " [14 81]]\n",
      "\n",
      "Visualización de clasificaciones incorrectas: \n",
      "\n",
      "Clase esperada: A favor - Clase obtenida: En Contra\n",
      "Frase: Se sabe que los hijos son de su madre y la madre, que está emancipada del varón, elige cómo criarlos y educarlos.\n",
      "\n",
      "Clase esperada: En Contra - Clase obtenida: A favor\n",
      "Frase: Anuncios\n",
      "\n",
      "\n",
      "\n",
      "\n",
      "\n",
      "\n",
      "Comparte este post:TwitterFacebookGoogleCorreo electrónicoMe gusta:Me gusta Cargando...\n",
      "\n",
      "Relacionado\n",
      " \n",
      "\n",
      "\n",
      "\t\t\tPublicado en Reflexiones \n",
      "\n",
      "#MiVientreNoSeAlquilagestación subrogadavientres de alquiler \n",
      "\n",
      "\n",
      "\n",
      "Navegador de artículos\n",
      "\n",
      "< Previous Un café con Kim Pérez: hablamos de Sexo, Sexualidad y Género.\n",
      "\n",
      "Clase esperada: En Contra - Clase obtenida: A favor\n",
      "Frase: Como señala Guerra Palmero, las comercializadoras invisibilizan un procedimiento que se inicia con una fecundación in vitro (donde se suelen transferir varios embriones con el riego que supone un embarazo múltiple), en el que la gestante queda sometida a una vigilancia medicalizada para que no se malogre el producto y, como colofón -a efectos de evitar posibles complicaciones en el parto- se suele practicar una cesárea.\n",
      "\n",
      "Clase esperada: En Contra - Clase obtenida: A favor\n",
      "Frase: ¿Abortar sí?”.\n",
      "\n",
      "Clase esperada: A favor - Clase obtenida: En Contra\n",
      "Frase: Parte, según terminología de Seyla Benhabib, de la mirada parcial de un “otro generalizado” que ignora el punto de vista del “otro concreto”.\n",
      "\n",
      "Clase esperada: A favor - Clase obtenida: En Contra\n",
      "Frase: Se [...]\n",
      "\n",
      "\n",
      "Event Details\n",
      "La Federación de Mujeres Jóvenes, junto a la Universidad Complutense y el Instituto Madrileño de Antropoligía, organizan las I Jornadas Internacionales de Antropología Médica y Feminismos: las desigualdades en salud.\n",
      "\n",
      "Clase esperada: A favor - Clase obtenida: En Contra\n",
      "Frase: 6VídeoNostalgia sobre hielo: el baile de Sailor Moon de la campeona del mundo de patinaje\n",
      "7Lo que el meme de tonos de piel refleja sobre el racismo y el clasismo en México\n",
      "8¿Conseguirá este adolescente pidiendo 'nuggets' superar la popularidad del selfi de los Oscar 2014?\n",
      "\n",
      "Clase esperada: A favor - Clase obtenida: En Contra\n",
      "Frase: “En primer lugar, vas a la seguridad social y algunas personas que están en la ventanilla no saben lo que es la subrogación, tienen que ir a preguntar.\n",
      "\n",
      "Clase esperada: A favor - Clase obtenida: En Contra\n",
      "Frase: Nadie usa tu cuerpo como tal en su integridad, se te extraen células y a correr.\n",
      "\n",
      "Clase esperada: En Contra - Clase obtenida: A favor\n",
      "Frase: El primer álbum de familia de Jon y Lea.\n",
      "\n",
      "Clase esperada: A favor - Clase obtenida: En Contra\n",
      "Frase: Si analizamos bien estas dos cuestiones, concluimos en que no son dos cuestiones separadas o contradictorias, nada más lejos de la realidad.\n",
      "\n",
      "Clase esperada: En Contra - Clase obtenida: A favor\n",
      "Frase: El consentimiento éticamente relevante es el de una sociedad que tolera un baby business a costa de la explotación de la capacidad reproductiva de las mujeres\n",
      "\n",
      "Sheila Jeffreys analizó las implicaciones de la que denominó la “industria de la vagina”.\n",
      "\n",
      "Clase esperada: A favor - Clase obtenida: En Contra\n",
      "Frase: Defender aquí el uso de vientres de alquiler en nombre de la libertad es como defender que deje de prohibirse en el ámbito laboral sobrepasar cierto número de horas extra, trabajar sin medios de seguridad, rechazar vacaciones, etc.\n",
      "\n",
      "Clase esperada: A favor - Clase obtenida: En Contra\n",
      "Frase: Con una ligera parecida a la suya, Mendicuti, tras mencionar la cosificación y explotación de la mujer, de mercantilización y de inseguridad jurídica de los hijos, se pregunta ¿por qué hay que asumir esos riegos como inevitables.\n",
      "\n",
      "Clase esperada: En Contra - Clase obtenida: A favor\n",
      "Frase: Los bebés, a los que la norma pretende blindar, son las primeras víctimas del sistema\n",
      "\n",
      "\n",
      "\n",
      "A finales de 2015 se reformó de nuevo el código civil de Tabasco para impedir la \"comercialización con la vida\", según las palabras de los políticos locales.\n",
      "\n",
      "Clase esperada: A favor - Clase obtenida: En Contra\n",
      "Frase: Además, se plantean que antes de regular una situación que es totalmente minoritaria, hay que preguntarse a quién beneficia y a quien perjudica la regulación; “reflexionar sobre los lobbies económicos que están creando una hegemonía ideológica y cultural; de que todo es o puede ser objeto de compra venta en el neoliberalismo y, desde nuestra disciplina, debemos analizar si existe o no, un presunto derecho reproductivo”.\n",
      "\n",
      "Clase esperada: En Contra - Clase obtenida: A favor\n",
      "Frase: Seguiremos explicando lo mismo una y otra vez, sin concluir en ningún sitio concreto, ya que hoy en día siguen naciendo españolas y españoles que, con el paso de los años, llegarán al convencimiento de que defender la legalización de la violencia sobre las mujeres -prostitución y úteros de alquiler, entre tantas de las barbaries que nos esperan- es defender la libertad de las personas.\n",
      "\n",
      "Clase esperada: A favor - Clase obtenida: En Contra\n",
      "Frase: Se trata de una resolución contra Francia por una situación muy similar, por lo que es aplicable a nuestro país.\n",
      "\n",
      "Clase esperada: A favor - Clase obtenida: En Contra\n",
      "Frase: del Río, 68.\n",
      "\n",
      "Clase esperada: En Contra - Clase obtenida: A favor\n",
      "Frase: “Se esté a favor o en contra, existe.\n",
      "\n",
      "Clase esperada: En Contra - Clase obtenida: A favor\n",
      "Frase: Por favor, no podemos compararlo con el alquiler de un útero (mi cuerpo) durante los nueve meses que dura un embarazo, con todo lo que ello comporta.\n",
      "\n",
      "Clase esperada: En Contra - Clase obtenida: A favor\n",
      "Frase: La asociación con la que trabaja ha redactado una proposición de ley que pretende presentar en el Congreso como una Iniciativa Legislativa Popular.\n",
      "\n",
      "Clase esperada: En Contra - Clase obtenida: A favor\n",
      "Frase: Time(Viernes) 7:00 pm - 9:00 pm\n",
      "\n",
      "\n",
      "\n",
      "\n",
      "\n",
      "\n",
      "LocationCasa de la Cultura Avda.\n",
      "\n",
      "Clase esperada: En Contra - Clase obtenida: A favor\n",
      "Frase: En 2014, el Tribunal Europeo de Derechos Humanos condenó a Francia por no reconocer la paternidad de parejas con niños nacidos en Estados Unidos mediante la gestación subrogada primando también el interés de los niños frente la legalidad o ilegalidad de esta técnica de reproducción en el país -donde está prohibida al igual que en el Estado español-.\n",
      "\n",
      "Clase esperada: En Contra - Clase obtenida: A favor\n",
      "Frase: Maternidad invisible: madres solteras en Marruecos9:00 am - 2:00 pm C/ Alcalá 62.\n",
      "\n",
      "Clase esperada: A favor - Clase obtenida: En Contra\n",
      "Frase: A partir de ese momento los consulados dejaron de autorizar la inscripción.\n",
      "\n",
      "Clase esperada: A favor - Clase obtenida: En Contra\n",
      "Frase: A su vez contraviene las disposiciones de la Unión Europea relativas a la dignidad humana, la trata y el tráfico de personas y la adopción.\n",
      "\n",
      "Clase esperada: En Contra - Clase obtenida: A favor\n",
      "Frase: ¿La ves?\n",
      "\n",
      "Clase esperada: A favor - Clase obtenida: En Contra\n",
      "Frase: También recomiendo este artículo de Jesús Solís, que empieza así: Soy gay.\n",
      "[ True  True  True  True  True  True  True  True  True False False  True\n",
      "  True  True  True  True  True  True  True  True False False  True  True\n",
      "  True  True False  True  True  True  True  True  True  True  True  True\n",
      "  True  True  True  True  True  True  True  True  True  True  True False\n",
      "  True  True False  True False  True False  True  True  True  True  True\n",
      " False  True False False  True  True  True  True  True  True  True  True\n",
      "  True  True  True False  True  True  True  True  True  True  True  True\n",
      "  True False  True  True  True  True  True  True False False False  True\n",
      "  True False  True  True  True  True  True  True  True False  True  True\n",
      "  True False False  True False  True  True  True False  True  True False\n",
      "  True  True  True  True  True  True  True False  True  True  True  True\n",
      "  True  True  True  True False  True  True  True  True  True  True False\n",
      "  True  True  True  True  True  True  True  True False  True  True  True\n",
      "  True  True  True  True  True False  True  True  True  True  True  True\n",
      "  True  True  True  True  True  True  True  True  True  True  True  True]\n"
     ]
    }
   ],
   "source": [
    "from sklearn.model_selection import ShuffleSplit\n",
    "from sklearn.linear_model import SGDClassifier\n",
    "from sklearn.feature_extraction.text import TfidfTransformer\n",
    "from sklearn.pipeline import Pipeline\n",
    "\n",
    "#Using a Shuffle Split permutation\n",
    "\n",
    "ss = ShuffleSplit(n_splits=1, test_size=0.3, random_state=0)\n",
    "X_ShuffleSplit = np.array(trainset)\n",
    "Y_ShuffleSplit = Y_Leave1Out\n",
    "\n",
    "ss.get_n_splits(X_ShuffleSplit)\n",
    "X_train_counts = []\n",
    "X_train_data = []\n",
    "X_train_label = []\n",
    "X_test_data = []\n",
    "X_test_label = []\n",
    "trainAux = []\n",
    "testAux = []\n",
    "for train_index, test_index in ss.split(X_ShuffleSplit):\n",
    "    trainAux = train_index\n",
    "    testAux = test_index\n",
    "for index in trainAux:\n",
    "    X_train_data.append(str(X_ShuffleSplit[index][0]))\n",
    "    if X_ShuffleSplit[index][1] == 'aFavor':\n",
    "        X_train_label.append(0)\n",
    "    else:\n",
    "        X_train_label.append(1)\n",
    "for index in testAux:\n",
    "    X_test_data.append(str(X_ShuffleSplit[index][0]))\n",
    "    if X_ShuffleSplit[index][1] == 'aFavor':\n",
    "        X_test_label.append(0)\n",
    "    else:\n",
    "        X_test_label.append(1)\n",
    "\n",
    "#Training data\n",
    "X_train_counts = vect.fit_transform(X_train_data)\n",
    "tf_transformer = TfidfTransformer(use_idf=False).fit(X_train_counts)\n",
    "X_train_tf = tf_transformer.transform(X_train_counts)\n",
    "X_train_tf.shape\n",
    "nb.fit(X_train_tf, X_train_label)\n",
    "\n",
    "#Classifiyng new data\n",
    "new = ['la gestación subrogada está bien','el vientre de alquiler está mal']\n",
    "X_new_counts = vect.transform(new)\n",
    "X_new_tfidf = tf_transformer.transform(X_new_counts)\n",
    "predicted = nb.predict(X_new_tfidf)\n",
    "print predicted\n",
    "\n",
    "#Classifying training data\n",
    "test_data = vect.transform(X_train_data)\n",
    "test_tfi = tf_transformer.transform(test_data)\n",
    "predicted = nb.predict(test_tfi)\n",
    "print '\\nAccuracy on predicting the training sentences'\n",
    "print np.mean(predicted == X_train_label)\n",
    "#print X_train_label\n",
    "#print predicted\n",
    "\n",
    "#Classifying test data\n",
    "test_data = vect.transform(X_test_data)\n",
    "test_tfi = tf_transformer.transform(test_data)\n",
    "predicted = nb.predict(test_tfi)\n",
    "print '\\nAccuracy on predicting the test sentences'\n",
    "print np.mean(predicted == X_test_label)\n",
    "\n",
    "#Confusion matrix\n",
    "print '\\nConfusion Matrix'\n",
    "print(metrics.confusion_matrix(X_test_label, predicted))\n",
    "\n",
    "print '\\nVisualización de clasificaciones incorrectas: '\n",
    "#Results\n",
    "contador = 0\n",
    "for label1 in X_test_label:\n",
    "    if label1 == 0:\n",
    "        output = \"A favor\"\n",
    "    else:\n",
    "        output = \"En Contra\"\n",
    "    if predicted[contador] == 0:\n",
    "        output2 = \"A favor\"\n",
    "    else:\n",
    "        output2 = \"En Contra\"\n",
    "    contador += 1\n",
    "    if output != output2:\n",
    "        print '\\nClase esperada: ' + output + ' - Clase obtenida: '+output2\n",
    "        print 'Frase: ' + X_test_data[contador] \n",
    "\n",
    "\n",
    "print X_test_label == predicted"
   ]
  },
  {
   "cell_type": "code",
   "execution_count": null,
   "metadata": {
    "extensions": {
     "jupyter_dashboards": {
      "version": 1,
      "views": {
       "grid_default": {
        "col": 8,
        "height": 22,
        "hidden": false,
        "row": 4,
        "width": 4
       },
       "report_default": {}
      }
     }
    }
   },
   "outputs": [],
   "source": []
  },
  {
   "cell_type": "code",
   "execution_count": 20,
   "metadata": {
    "collapsed": true,
    "extensions": {
     "jupyter_dashboards": {
      "version": 1,
      "views": {
       "grid_default": {
        "hidden": true
       },
       "report_default": {}
      }
     }
    }
   },
   "outputs": [],
   "source": [
    "#Pipeline example\n",
    "\n",
    "from sklearn.linear_model import SGDClassifier\n",
    "from sklearn.feature_extraction.text import TfidfTransformer\n",
    "from sklearn.pipeline import Pipeline\n",
    "textClassifier = Pipeline([('vect', CountVectorizer()),\n",
    "                           ('tfidf', TfidfTransformer()),\n",
    "                           ('clf', SGDClassifier())])"
   ]
  },
  {
   "cell_type": "code",
   "execution_count": null,
   "metadata": {
    "extensions": {
     "jupyter_dashboards": {
      "version": 1,
      "views": {
       "grid_default": {
        "col": 0,
        "height": 4,
        "hidden": false,
        "row": 8,
        "width": 4
       },
       "report_default": {}
      }
     }
    }
   },
   "outputs": [],
   "source": []
  },
  {
   "cell_type": "code",
   "execution_count": null,
   "metadata": {
    "extensions": {
     "jupyter_dashboards": {
      "version": 1,
      "views": {
       "grid_default": {
        "col": 0,
        "height": 7,
        "hidden": false,
        "row": 12,
        "width": 4
       },
       "report_default": {}
      }
     }
    }
   },
   "outputs": [],
   "source": []
  },
  {
   "cell_type": "code",
   "execution_count": null,
   "metadata": {
    "extensions": {
     "jupyter_dashboards": {
      "version": 1,
      "views": {
       "grid_default": {
        "hidden": true
       },
       "report_default": {}
      }
     }
    }
   },
   "outputs": [],
   "source": [
    "#Lime Docs Example\n",
    "\n",
    "import lime\n",
    "from sklearn import ensemble\n",
    "from sklearn import feature_extraction\n",
    "from lime.lime_text import LimeTextExplainer\n",
    "from sklearn.datasets import fetch_20newsgroups\n",
    "\n",
    "twenty_train = fetch_20newsgroups(subset='train', shuffle=True, random_state=42)\n",
    "twenty_test = fetch_20newsgroups(subset='train', shuffle=True, random_state=42)\n",
    "\n",
    "explainer = LimeTextExplainer(class_names=labels)\n",
    "vectorizer = feature_extraction.text.TfidfVectorizer(lowercase=False)\n",
    "rf = ensemble.RandomForestClassifier(n_estimators=500)\n",
    "\n",
    "train_vectors = vectorizer.fit_transform(twenty_train.data)\n",
    "test_vectors = vectorizer.transform(twenty_test.data)\n",
    "rf.fit(train_vectors, twenty_train.target)\n",
    "pred = rf.predict(test_vectors)\n",
    "\n",
    "explanation = explainer.explain_instance(twenty_train.data[0], pred, num_features=6)\n"
   ]
  },
  {
   "cell_type": "code",
   "execution_count": null,
   "metadata": {
    "extensions": {
     "jupyter_dashboards": {
      "version": 1,
      "views": {
       "grid_default": {
        "col": 4,
        "height": 11,
        "hidden": false,
        "row": 16,
        "width": 4
       },
       "report_default": {}
      }
     }
    }
   },
   "outputs": [],
   "source": []
  },
  {
   "cell_type": "code",
   "execution_count": null,
   "metadata": {
    "extensions": {
     "jupyter_dashboards": {
      "version": 1,
      "views": {
       "grid_default": {
        "col": 0,
        "height": 4,
        "hidden": false,
        "row": 19,
        "width": 4
       },
       "report_default": {}
      }
     }
    }
   },
   "outputs": [],
   "source": []
  },
  {
   "cell_type": "code",
   "execution_count": null,
   "metadata": {
    "collapsed": true,
    "extensions": {
     "jupyter_dashboards": {
      "version": 1,
      "views": {
       "grid_default": {
        "hidden": true
       },
       "report_default": {}
      }
     }
    }
   },
   "outputs": [],
   "source": []
  }
 ],
 "metadata": {
  "anaconda-cloud": {},
  "extensions": {
   "jupyter_dashboards": {
    "activeView": "grid_default",
    "version": 1,
    "views": {
     "grid_default": {
      "cellMargin": 10,
      "defaultCellHeight": 20,
      "maxColumns": 12,
      "name": "grid",
      "type": "grid"
     },
     "report_default": {
      "name": "report",
      "type": "report"
     }
    }
   }
  },
  "kernelspec": {
   "display_name": "Python 2",
   "language": "python",
   "name": "python2"
  },
  "language_info": {
   "codemirror_mode": {
    "name": "ipython",
    "version": 2
   },
   "file_extension": ".py",
   "mimetype": "text/x-python",
   "name": "python",
   "nbconvert_exporter": "python",
   "pygments_lexer": "ipython2",
   "version": "2.7.12"
  }
 },
 "nbformat": 4,
 "nbformat_minor": 1
}

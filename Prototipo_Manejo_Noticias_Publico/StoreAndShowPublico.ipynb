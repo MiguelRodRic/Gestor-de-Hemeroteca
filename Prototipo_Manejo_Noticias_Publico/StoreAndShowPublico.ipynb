{
 "cells": [
  {
   "cell_type": "code",
   "execution_count": 1,
   "metadata": {
    "collapsed": false,
    "deletable": true,
    "editable": true,
    "extensions": {
     "jupyter_dashboards": {
      "version": 1,
      "views": {
       "grid_default": {},
       "report_default": {
        "hidden": true
       }
      }
     }
    }
   },
   "outputs": [
    {
     "data": {
      "text/plain": [
       "'\\nfor noticia in textoNoticias:   \\n    textoNoticia = \"\"\\n    textoParrafoSinHtml =\"\"\\n    for parrafo in noticia:\\n        try:\\n            handle = textoNoticias[textoNoticias.index(noticia)][noticia.index(parrafo)].getText()\\n            #print handle\\n            textoParrafoSinHtml = textoParrafoSinHtml + handle\\n        except AttributeError:\\n            textoParrafo = \"\"\\n        except ValueError:\\n            textoParrafo = \"\"\\n        #textoParrafoSinHtml = \"\"\\n        #try:\\n        #    for texto in textoParrafo.find(\\'p\\').contents:\\n        #        textoParrafoSinHtml = textoParrafoSinHtml + texto\\n        #except AttributeError:\\n        #    textoParrafoSinHtml = textoParrafoSinHtml + \"\"\\n    textoNoticia =textoNoticia + textoParrafoSinHtml\\n    #print textoNoticia\\n    textoNoticias[textoNoticias.index(noticia)] = textoNoticia\\n    #print textoNoticias\\n\\n\\n        \\n\\ncliente = MongoClient()\\ndb = cliente.test_database\\nborradas = db.noticias.delete_many({})\\nnoticias = db.noticias\\n\\nfor enlace in enlaces:\\n    indice = enlaces.index(enlace)\\n    autor = autores[indice]\\n    titular = titulares[indice]\\n    url = enlace\\n    fecha = fechaNoticias[indice]\\n    texto = textoNoticias[indice].encode(\\'utf-8\\').decode(\\'utf-8\\')\\n    noticia = { \\'author\\': autor, \\'title\\':titular,\\n               \\'link\\':url, \\'publishDate\\':fecha, \\'text\\':texto, \\'source\\':\\'web\\'}\\n    noticia_id = noticias.insert_one(noticia)\\n'"
      ]
     },
     "execution_count": 1,
     "metadata": {},
     "output_type": "execute_result"
    }
   ],
   "source": [
    "# -*- coding: utf-8 -*-\n",
    "\"\"\"\n",
    "Created on Sun Feb 19 20:18:26 2017\n",
    "\n",
    "@author: Miguel-Portatil\n",
    "\"\"\"\n",
    "\n",
    "\n",
    "#Library \n",
    "import urllib2\n",
    "import pymongo\n",
    "from contextlib import closing\n",
    "from selenium.webdriver import Firefox\n",
    "from selenium.webdriver.support.ui import WebDriverWait\n",
    "from selenium.webdriver.firefox.firefox_binary import FirefoxBinary\n",
    "from selenium.webdriver.common.desired_capabilities import DesiredCapabilities\n",
    "from bs4 import BeautifulSoup\n",
    "from pymongo import MongoClient\n",
    "\n",
    "\n",
    "#set the url:\n",
    "url = \"http://www.publico.es/sociedad/igualdad\"\n",
    "\n",
    "#Create a request\n",
    "request = urllib2.Request(url)\n",
    "\n",
    "#Now, we can create a handle which we can read out later\n",
    "handle = urllib2.urlopen(request)\n",
    "\n",
    "#Read content\n",
    "content = handle.read()\n",
    "\n",
    "soup = BeautifulSoup(content, \"lxml\")\n",
    "\n",
    "newsList = soup.find_all(\"div\", {\"class\":\"listing-item\"})\n",
    "\n",
    "enlaces = [None]*len(newsList)\n",
    "titulares = [None]*len(newsList)\n",
    "autores = [None]*len(newsList)\n",
    "for news in newsList:\n",
    "    enlaceAux = news.find('a', href=True)\n",
    "    enlaces[newsList.index(news)] = 'http://www.publico.es/' + enlaceAux['href']\n",
    "    titularDiv = news.find(\"div\", {\"class\":\"listing-title\"})\n",
    "    titulares[newsList.index(news)] = titularDiv.a.string.encode('utf-8')\n",
    "    autorDiv = news.find(\"div\", {\"class\":\"listing-signature\"})\n",
    "    autores[newsList.index(news)] = autorDiv.string.encode('utf-8')\n",
    "    autores[newsList.index(news)] = autores[newsList.index(news)].replace(\" \",\"\")\n",
    "    autores[newsList.index(news)] = autores[newsList.index(news)].replace(\"\\n\",\"\")\n",
    "\n",
    "htmlNoticias = [None]*len(enlaces)\n",
    "textoNoticias = [None]*len(enlaces)\n",
    "fechaNoticias = [None]*len(enlaces)\n",
    "\n",
    "\"\"\"\n",
    "for enlace in enlaces\n",
    "    request = urllib2.Request(enlaces[enlaces.index(enlace)])\n",
    "    handle = urllib2.urlopen(request)\n",
    "    html = handle.read()\n",
    "    htmlSoup = BeautifulSoup(html,\"lxml\")\n",
    "    htmlNoticias[enlaces.index(enlace)] = htmlSoup.find(\"div\", {\"class\":\"article-body\"})\n",
    "    fechaNoticias[enlaces.index(enlace)] = htmlNoticias[enlaces.index(enlace)].find(\"span\", {\"class\":\"published\"}).contents\n",
    "    textoNoticias[enlaces.index(enlace)] = htmlNoticias[enlaces.index(enlace)].find(\"div\", {\"class\":\"article-text\"}).contents\n",
    "\n",
    "for noticia in textoNoticias:   \n",
    "    textoNoticia = \"\"\n",
    "    textoParrafoSinHtml =\"\"\n",
    "    for parrafo in noticia:\n",
    "        try:\n",
    "            handle = textoNoticias[textoNoticias.index(noticia)][noticia.index(parrafo)].getText()\n",
    "            #print handle\n",
    "            textoParrafoSinHtml = textoParrafoSinHtml + handle\n",
    "        except AttributeError:\n",
    "            textoParrafo = \"\"\n",
    "        except ValueError:\n",
    "            textoParrafo = \"\"\n",
    "        #textoParrafoSinHtml = \"\"\n",
    "        #try:\n",
    "        #    for texto in textoParrafo.find('p').contents:\n",
    "        #        textoParrafoSinHtml = textoParrafoSinHtml + texto\n",
    "        #except AttributeError:\n",
    "        #    textoParrafoSinHtml = textoParrafoSinHtml + \"\"\n",
    "    textoNoticia =textoNoticia + textoParrafoSinHtml\n",
    "    #print textoNoticia\n",
    "    textoNoticias[textoNoticias.index(noticia)] = textoNoticia\n",
    "    #print textoNoticias\n",
    "\n",
    "\n",
    "        \n",
    "\n",
    "cliente = MongoClient()\n",
    "db = cliente.test_database\n",
    "borradas = db.noticias.delete_many({})\n",
    "noticias = db.noticias\n",
    "\n",
    "for enlace in enlaces:\n",
    "    indice = enlaces.index(enlace)\n",
    "    autor = autores[indice]\n",
    "    titular = titulares[indice]\n",
    "    url = enlace\n",
    "    fecha = fechaNoticias[indice]\n",
    "    texto = textoNoticias[indice].encode('utf-8').decode('utf-8')\n",
    "    noticia = { 'author': autor, 'title':titular,\n",
    "               'link':url, 'publishDate':fecha, 'text':texto, 'source':'web'}\n",
    "    noticia_id = noticias.insert_one(noticia)\n",
    "\"\"\""
   ]
  },
  {
   "cell_type": "code",
   "execution_count": 9,
   "metadata": {
    "collapsed": false,
    "deletable": true,
    "editable": true,
    "extensions": {
     "jupyter_dashboards": {
      "version": 1,
      "views": {
       "grid_default": {},
       "report_default": {
        "hidden": true
       }
      }
     }
    }
   },
   "outputs": [
    {
     "name": "stdout",
     "output_type": "stream",
     "text": [
      "OK\n"
     ]
    }
   ],
   "source": [
    "from selenium.webdriver import Firefox\n",
    "from selenium.webdriver.support.ui import WebDriverWait\n",
    "from selenium.webdriver.firefox.firefox_binary import FirefoxBinary\n",
    "from selenium.webdriver.common.desired_capabilities import DesiredCapabilities\n",
    "\n",
    "binary = FirefoxBinary(r'/usr/bin/firefox')\n",
    "#System.setProperty(\"webdriver.gecko.driver\",\"/usr/bin/wires\")\n",
    "caps = DesiredCapabilities.FIREFOX.copy()\n",
    "caps[\"marionette\"] = True;\n",
    "#driver = Firefox(firefox_binary=binary, capabilities=caps, executable_path='/usr/bin/geckodriver')\n",
    "sources = [None]*len(enlaces)\n",
    "for enlace in enlaces:\n",
    "    binary = FirefoxBinary(r'/usr/bin/firefox')\n",
    "    #System.setProperty(\"webdriver.gecko.driver\",\"/usr/bin/wires\")\n",
    "    caps = DesiredCapabilities.FIREFOX.copy()\n",
    "    caps[\"marionette\"] = True;\n",
    "    with closing(Firefox(firefox_binary=binary, capabilities=caps, executable_path='/usr/bin/geckodriver')) as browser:\n",
    "        browser.get(enlace)\n",
    "        WebDriverWait(browser, timeout=10).until(lambda x: x.find_element_by_id('dsq-app1'))\n",
    "        sources[enlaces.index(enlace)] = browser.page_source\n",
    "    #print page_source\n",
    "print 'OK'"
   ]
  },
  {
   "cell_type": "code",
   "execution_count": null,
   "metadata": {
    "collapsed": false,
    "deletable": true,
    "editable": true,
    "extensions": {
     "jupyter_dashboards": {
      "version": 1,
      "views": {
       "grid_default": {
        "hidden": true
       },
       "report_default": {
        "hidden": true
       }
      }
     }
    }
   },
   "outputs": [],
   "source": [
    "import pandas as pd\n",
    "import numpy as np\n",
    "import qgrid\n",
    "import re\n",
    "from IPython.display import display\n",
    "from IPython.display import HTML\n",
    "from ipywidgets import widgets\n",
    "\n",
    "style_margin_title = dict (margin = '10px 10px 0px 15%')\n",
    "style_margin_label = dict (margin = '20px 10px 0px 30%')\n",
    "style_margin_button = dict (margin = '20px 10px 10px 33%')\n",
    "style_margin_text = dict (margin = '20px 10px 1px 20%')\n",
    "style_margin_label_result = dict (margin = '20px 10px 0px 37%',font_size='')\n",
    "\n",
    "qgrid.nbinstall(overwrite=True)\n",
    "qgrid.set_defaults(remote_js=True, precision=2)\n",
    "\n",
    "layoutContainer = widgets.Layout(display='flex',align_items='center',\n",
    "                                 width='50%', flex_direction='column', justify_content='space-between', margin='0px 0px 0px 25%')\n",
    "titulo = widgets.HTML(value=\"<label style=\\\"font-size:larger\\\"><strong>Buscador de noticias de igualdad de Publico<strong></label>\", **style_margin_title)\n",
    "textBox = widgets.Text(**style_margin_text)\n",
    "button = widgets.Button(description=\"Buscar\", **style_margin_button)\n",
    "label = widgets.Label(value='Introduzca la palabra clave:',**style_margin_label)\n",
    "html = widgets.HTML(value=\"<script type=text/javascript>\"\n",
    "                    + \"var labels = document.getElementsByTagName('label');\"\n",
    "     + \"for(var i = 0; i < labels.length; i++){\"\n",
    "     + \"labels[i].style.color=\\\"red\\\";}</script>\")\n",
    "container = widgets.VBox(children=[titulo, label,textBox,button,html], layout=layoutContainer)\n",
    "container.layout.border = '2px grey solid'\n",
    "\n",
    "\n",
    "\n",
    "def handle_submit(sender):\n",
    "    pat = re.compile(textBox.value, re.I)\n",
    "    filas = []\n",
    "    cursor = db.noticias.find({\"text\":{'$regex':pat}},{\"author\":1,\"link\":1, \"title\":1, \"text\":1, \"publishDate\":1})\n",
    "    for estructura in cursor:\n",
    "        contador = 0\n",
    "        for palabra in estructura['text'].split(' '):\n",
    "            if(textBox.value in palabra):\n",
    "                contador += 1\n",
    "        filas.append({\"fecha publicación\":estructura[\"publishDate\"],\"autor\":estructura[\"author\"], \"titular\":estructura[\"title\"],\n",
    "                      \"link\":estructura[\"link\"], \"apariciones\":contador})\n",
    "\n",
    "    df = pd.DataFrame(filas)\n",
    "    df['link'] = df['link'].apply(lambda x:'<a href=\"{0}\">Noticia</a>'.format(x))\n",
    "    df.set_index('apariciones', inplace=True)\n",
    "    \n",
    "    labelNoticia = widgets.Label(value='Noticias con la palabra clave: '+ textBox.value, **style_margin_label_result)\n",
    "    display(labelNoticia)\n",
    "    qgrid.show_grid(df, grid_options={'fullWidthRows':True,'syncColumnCellResize':True,\n",
    "                                       'forceFitColumns':True,'rowHeight':40,'enableColumnReorder':True,\n",
    "                                       'enableTextSelectionOnCells':True,'editable':True})\n",
    "    #display(HTML(df.to_html(escape=True)))\n",
    "\n",
    "    \n",
    "button.on_click(handle_submit)\n",
    "display(container)\n",
    "\n",
    "#display(label)\n",
    "#display(textBox)\n",
    "#display(button)"
   ]
  },
  {
   "cell_type": "code",
   "execution_count": 10,
   "metadata": {
    "collapsed": false,
    "deletable": true,
    "editable": true,
    "extensions": {
     "jupyter_dashboards": {
      "version": 1,
      "views": {
       "grid_default": {
        "hidden": true
       },
       "report_default": {
        "hidden": true
       }
      }
     }
    }
   },
   "outputs": [],
   "source": [
    "seccionesIframe = [None]*len(sources)\n",
    "seccionesUrl = [None]*len(sources)\n",
    "enlacesIframe = [None]*len(sources)\n",
    "for fuente in sources:\n",
    "    seccionesIframe[sources.index(fuente)] = fuente.split('name=\\\"dsq-app1\\\"')"
   ]
  },
  {
   "cell_type": "code",
   "execution_count": 11,
   "metadata": {
    "collapsed": false,
    "deletable": true,
    "editable": true,
    "extensions": {
     "jupyter_dashboards": {
      "version": 1,
      "views": {
       "grid_default": {
        "col": 4,
        "height": 4,
        "hidden": false,
        "row": 10,
        "width": 4
       },
       "report_default": {
        "hidden": false
       }
      }
     }
    }
   },
   "outputs": [],
   "source": [
    "for seccion in seccionesIframe:\n",
    "    seccionesUrl[seccionesIframe.index(seccion)] = seccion[1]\n",
    "    seccionesUrl[seccionesIframe.index(seccion)] = seccionesUrl[seccionesIframe.index(seccion)].split('src=\\\"',1)[1]"
   ]
  },
  {
   "cell_type": "code",
   "execution_count": 12,
   "metadata": {
    "collapsed": false,
    "deletable": true,
    "editable": true,
    "extensions": {
     "jupyter_dashboards": {
      "version": 1,
      "views": {
       "grid_default": {
        "hidden": true
       },
       "report_default": {
        "hidden": true
       }
      }
     }
    }
   },
   "outputs": [],
   "source": [
    "for seccion in seccionesUrl:\n",
    "    enlacesIframe[seccionesUrl.index(seccion)] = seccion.split('\\\" horizontal',1)[0]"
   ]
  },
  {
   "cell_type": "code",
   "execution_count": 14,
   "metadata": {
    "collapsed": false,
    "deletable": true,
    "editable": true,
    "extensions": {
     "jupyter_dashboards": {
      "version": 1,
      "views": {
       "grid_default": {},
       "report_default": {
        "hidden": true
       }
      }
     }
    }
   },
   "outputs": [],
   "source": [
    "sources = [None]*len(enlacesIframe)\n",
    "for enlace in enlacesIframe:\n",
    "    with closing(Firefox(firefox_binary=binary, capabilities=caps, executable_path='/usr/bin/geckodriver')) as browser:\n",
    "            browser.get(enlace)\n",
    "            sources[enlacesIframe.index(enlace)] = browser.page_source"
   ]
  },
  {
   "cell_type": "code",
   "execution_count": 27,
   "metadata": {
    "collapsed": false,
    "deletable": true,
    "editable": true,
    "extensions": {
     "jupyter_dashboards": {
      "version": 1,
      "views": {
       "grid_default": {},
       "report_default": {
        "hidden": true
       }
      }
     }
    }
   },
   "outputs": [],
   "source": [
    "posts= [None]*len(sources)\n",
    "for source in sources:\n",
    "    posts[sources.index(source)] = source.split('post')"
   ]
  },
  {
   "cell_type": "code",
   "execution_count": 28,
   "metadata": {
    "collapsed": false,
    "deletable": true,
    "editable": true,
    "extensions": {
     "jupyter_dashboards": {
      "version": 1,
      "views": {
       "grid_default": {},
       "report_default": {
        "hidden": true
       }
      }
     }
    }
   },
   "outputs": [],
   "source": [
    "for post in posts:\n",
    "    posts[posts.index(post)]=posts[posts.index(post)][1].split('raw_message')"
   ]
  },
  {
   "cell_type": "code",
   "execution_count": 32,
   "metadata": {
    "collapsed": false,
    "deletable": true,
    "editable": true,
    "extensions": {
     "jupyter_dashboards": {
      "version": 1,
      "views": {
       "grid_default": {},
       "report_default": {
        "hidden": true
       }
      }
     }
    }
   },
   "outputs": [],
   "source": [
    "for post in posts:\n",
    "    for comment in post:\n",
    "        if 'canVote' in comment:\n",
    "            posts[posts.index(post)][post.index(comment)] = comment.split('canVote',1)[0]\n",
    "        elif '\\\"id\\\"' in comment:\n",
    "            posts[posts.index(post)][post.index(comment)] = comment.split('\\\"id\\\"',1)[0]\n"
   ]
  },
  {
   "cell_type": "code",
   "execution_count": 39,
   "metadata": {
    "collapsed": false,
    "deletable": true,
    "editable": true,
    "extensions": {
     "jupyter_dashboards": {
      "version": 1,
      "views": {
       "grid_default": {},
       "report_default": {
        "hidden": true
       }
      }
     }
    }
   },
   "outputs": [
    {
     "name": "stdout",
     "output_type": "stream",
     "text": [
      "OK\n"
     ]
    }
   ],
   "source": [
    "for enlace in enlaces:\n",
    "    request = urllib2.Request(enlaces[enlaces.index(enlace)])\n",
    "    handle = urllib2.urlopen(request)\n",
    "    html = handle.read()\n",
    "    htmlSoup = BeautifulSoup(html,\"lxml\")\n",
    "    htmlNoticias[enlaces.index(enlace)] = htmlSoup.find(\"div\", {\"class\":\"article-body\"})\n",
    "    fechaNoticias[enlaces.index(enlace)] = htmlNoticias[enlaces.index(enlace)].find(\"span\", {\"class\":\"published\"}).contents\n",
    "    textoNoticias[enlaces.index(enlace)] = htmlNoticias[enlaces.index(enlace)].find(\"div\", {\"class\":\"article-text\"}).contents\n",
    "\n",
    "for noticia in textoNoticias:   \n",
    "    textoNoticia = \"\"\n",
    "    textoParrafoSinHtml =\"\"\n",
    "    for parrafo in noticia:\n",
    "        try:\n",
    "            handle = textoNoticias[textoNoticias.index(noticia)][noticia.index(parrafo)].getText()\n",
    "            #print handle\n",
    "            textoParrafoSinHtml = textoParrafoSinHtml + handle\n",
    "        except AttributeError:\n",
    "            textoParrafo = \"\"\n",
    "        except ValueError:\n",
    "            textoParrafo = \"\"\n",
    "        #textoParrafoSinHtml = \"\"\n",
    "        #try:\n",
    "        #    for texto in textoParrafo.find('p').contents:\n",
    "        #        textoParrafoSinHtml = textoParrafoSinHtml + texto\n",
    "        #except AttributeError:\n",
    "        #    textoParrafoSinHtml = textoParrafoSinHtml + \"\"\n",
    "    textoNoticia =textoNoticia + textoParrafoSinHtml\n",
    "    #print textoNoticia\n",
    "    textoNoticias[textoNoticias.index(noticia)] = textoNoticia\n",
    "    #print textoNoticias\n",
    "print 'OK'"
   ]
  },
  {
   "cell_type": "code",
   "execution_count": 43,
   "metadata": {
    "collapsed": false,
    "deletable": true,
    "editable": true,
    "extensions": {
     "jupyter_dashboards": {
      "version": 1,
      "views": {
       "grid_default": {},
       "report_default": {
        "hidden": true
       }
      }
     }
    }
   },
   "outputs": [],
   "source": [
    "idInsertadas = [None]*len(enlaces)\n",
    "\n",
    "cliente = MongoClient()\n",
    "db = cliente.test_database\n",
    "borradas = db.noticias.delete_many({})\n",
    "noticias = db.noticias\n",
    "\n",
    "for enlace in enlaces:\n",
    "    indice = enlaces.index(enlace)\n",
    "    autor = autores[indice]\n",
    "    titular = titulares[indice]\n",
    "    url = enlace\n",
    "    fecha = fechaNoticias[indice]\n",
    "    texto = textoNoticias[indice].encode('utf-8').decode('utf-8')\n",
    "    noticia = { 'author': autor, 'title':titular,\n",
    "               'link':url, 'publishDate':fecha, 'text':texto, 'source':'web', 'comentarios':posts[enlaces.index(enlace)]}\n",
    "    idInsertadas[enlaces.index(enlace)]= noticias.insert_one(noticia)\n"
   ]
  },
  {
   "cell_type": "code",
   "execution_count": 105,
   "metadata": {
    "collapsed": false,
    "extensions": {
     "jupyter_dashboards": {
      "version": 1,
      "views": {
       "grid_default": {},
       "report_default": {
        "hidden": false
       }
      }
     }
    }
   },
   "outputs": [],
   "source": [
    "import pandas as pd\n",
    "import numpy as np\n",
    "import qgrid\n",
    "import re\n",
    "from IPython.display import display\n",
    "from IPython.display import HTML\n",
    "from ipywidgets import widgets\n",
    "\n",
    "\n",
    "pd.options.display.max_colwidth = 200\n",
    "comentarios = []\n",
    "style_margin_title = dict (margin = '10px 10px 0px 15%')\n",
    "style_margin_label = dict (margin = '20px 10px 0px 30%')\n",
    "style_margin_button = dict (margin = '20px 10px 10px 33%')\n",
    "style_margin_text = dict (margin = '20px 10px 1px 20%')\n",
    "style_margin_label_result = dict (margin = '20px 10px 0px 37%',font_size='')\n",
    "\n",
    "qgrid.nbinstall(overwrite=True)\n",
    "qgrid.set_defaults(remote_js=True, precision=2)\n",
    "\n",
    "layoutContainer = widgets.Layout(display='flex',align_items='center',\n",
    "                                 width='50%', flex_direction='column', justify_content='space-between', margin='0px 0px 0px 25%')\n",
    "titulo = widgets.HTML(value=\"<label style=\\\"font-size:larger\\\"><strong>Buscador de noticias de igualdad de Publico<strong></label>\", **style_margin_title)\n",
    "textBox = widgets.Text(**style_margin_text)\n",
    "button = widgets.Button(description=\"Buscar\", **style_margin_button)\n",
    "label = widgets.Label(value='Introduzca la palabra clave:',**style_margin_label)\n",
    "html = widgets.HTML(value=\"<script type=text/javascript>\"\n",
    "                    + \"var labels = document.getElementsByTagName('label');\"\n",
    "     + \"for(var i = 0; i < labels.length; i++){\"\n",
    "     + \"labels[i].style.color=\\\"red\\\";}</script>\")\n",
    "estiloJS = widgets.HTML(value=\"<script type=text/javascript>\"\n",
    "                    + \"var tabla = document.getElementsByTagName(\\\"td\\\"); \"\n",
    "                    + \"for(var i=0; i < tabla.length; i++){\"\n",
    "                    + \"tabla[i].style.background= '#CEF6F5'; tabla[i].style.textAlign = 'center'; tabla[i].style.height = 'auto'}\"\n",
    "                    + \"var encabezados = document.getElementsByTagName(\\\"th\\\");\" \n",
    "                    + \"for(var i=0; i < encabezados.length; i++){ encabezados[i].style.textAlign = 'center';encabezados[i].style.background = '#5882FA';} </script>\")\n",
    "container = widgets.VBox(children=[titulo, label,textBox,button,html,estiloJS], layout=layoutContainer)\n",
    "container.layout.border = '2px grey solid'\n",
    "\n",
    "\n",
    "\n",
    "def handle_submit(sender):\n",
    "    pat = re.compile(textBox.value, re.I)\n",
    "    pat2 = re.compile('web', re.I)\n",
    "    filas = []\n",
    "   \n",
    "    cursor = db.noticias.find({\"text\":{'$regex':pat}, \"source\":{'$regex':pat2}},\n",
    "                              {\"author\":1,\"link\":1, \"title\":1, \"text\":1, \"publishDate\":1, \"source\":1, \"comentarios\":1})\n",
    "    for estructura in cursor:\n",
    "        contador = 0\n",
    "        for palabra in estructura['text'].split(' '):\n",
    "            if(textBox.value in palabra):\n",
    "                contador += 1\n",
    "        filas.append({\"fecha publicación\":estructura[\"publishDate\"],\"autor\":estructura[\"author\"], \"titular\":estructura[\"title\"],\n",
    "                      \"link\":\"<a href=\"+estructura[\"link\"]+\">\"+estructura[\"link\"]+\"<\\a>\", \"apariciones\":contador, \"comentarios\":len(estructura[\"comentarios\"]), \"fuente\":estructura[\"source\"]})\n",
    "        for comentario in estructura[\"comentarios\"]:\n",
    "                comentarios.append({\"comentarios\":comentario, \"titular\":estructura[\"title\"]})\n",
    "    df = pd.DataFrame(filas)\n",
    "    #df['link'] = df['link'].apply(lambda x:'<a href=\"{0}\">Noticia</a>'.format(x))\n",
    "    df.set_index('apariciones', inplace=False)\n",
    "    dCom = pd.DataFrame(comentarios)\n",
    "    \n",
    "    labelNoticia = widgets.Label(value='Noticias con la palabra clave: '+ textBox.value, **style_margin_label_result)\n",
    "    display(labelNoticia)\n",
    "    #qgrid.show_grid(df, grid_options={'fullWidthRows':True,'syncColumnCellResize':True,\n",
    "    #                                   'forceFitColumns':True,'rowHeight':40,'enableColumnReorder':True,\n",
    "    #                                  'enableTextSelectionOnCells':True,'editable':True})\n",
    "    \n",
    "    #display(HTML(df.to_html(escape=True)))\n",
    "    htmlComentarios = widgets.HTML(value = dCom.to_html(escape=False))\n",
    "    htmlTabla = widgets.HTML(value = df.to_html(escape=False))\n",
    "    container2 = widgets.VBox(children =[htmlTabla,htmlComentarios,estiloJS] ) \n",
    "    display(container2)\n",
    "\n",
    "    \n",
    "button.on_click(handle_submit)\n",
    "display(container)\n",
    "\n",
    "#display(label)\n",
    "#display(textBox)\n",
    "#display(button)"
   ]
  },
  {
   "cell_type": "code",
   "execution_count": null,
   "metadata": {
    "collapsed": true,
    "extensions": {
     "jupyter_dashboards": {
      "version": 1,
      "views": {
       "grid_default": {},
       "report_default": {
        "hidden": true
       }
      }
     }
    }
   },
   "outputs": [],
   "source": []
  }
 ],
 "metadata": {
  "extensions": {
   "jupyter_dashboards": {
    "activeView": "report_default",
    "version": 1,
    "views": {
     "grid_default": {
      "cellMargin": 10,
      "defaultCellHeight": 20,
      "maxColumns": 12,
      "name": "grid",
      "type": "grid"
     },
     "report_default": {
      "name": "report",
      "type": "report"
     }
    }
   }
  },
  "kernelspec": {
   "display_name": "Python 2",
   "language": "python",
   "name": "python2"
  },
  "language_info": {
   "codemirror_mode": {
    "name": "ipython",
    "version": 2
   },
   "file_extension": ".py",
   "mimetype": "text/x-python",
   "name": "python",
   "nbconvert_exporter": "python",
   "pygments_lexer": "ipython2",
   "version": "2.7.12"
  },
  "widgets": {
   "state": {
    "036b5e88c9dd42419e6573edde46263c": {
     "views": [
      {
       "cell_index": 12
      }
     ]
    },
    "09775253daf44344bdfb474e31d208cc": {
     "views": [
      {
       "cell_index": 13
      }
     ]
    },
    "0a01eff9eb9648aa8e9a12fb30cbe934": {
     "views": [
      {
       "cell_index": 12
      }
     ]
    },
    "0e7e7ee4c993468288a1559861fa2c26": {
     "views": [
      {
       "cell_index": 12
      }
     ]
    },
    "1d26376261f04946b9eb842c482cf0f1": {
     "views": [
      {
       "cell_index": 12
      }
     ]
    },
    "20bbd99ec42b47c2ba7e2293b4748c30": {
     "views": [
      {
       "cell_index": 13
      }
     ]
    },
    "28907bdc62674b399dd0d113badee6dc": {
     "views": [
      {
       "cell_index": 12
      }
     ]
    },
    "3aaabd4c7cc34771920b8fed6b2f75de": {
     "views": [
      {
       "cell_index": 12
      }
     ]
    },
    "417cd6be68b54dbcb0b98c096f03aab5": {
     "views": [
      {
       "cell_index": 13
      }
     ]
    },
    "44836b59814b4a37be3bb1fcc9667d02": {
     "views": [
      {
       "cell_index": 12
      }
     ]
    },
    "557639332b8c4e418f969fd43b776a5e": {
     "views": [
      {
       "cell_index": 12
      }
     ]
    },
    "5d03c6bebd6a406491898cbbdf92d5d2": {
     "views": [
      {
       "cell_index": 12
      }
     ]
    },
    "65844bbb6e314c97bf41f911b0e0eb7d": {
     "views": [
      {
       "cell_index": 12
      }
     ]
    },
    "67bbfb0a09a449c9bee98242c751bdb3": {
     "views": [
      {
       "cell_index": 12
      }
     ]
    },
    "6a017bbd4f2246d79d0c5ee8eb9b93ac": {
     "views": [
      {
       "cell_index": 12
      }
     ]
    },
    "6bbad4ba729145bc8929e037afc68b21": {
     "views": [
      {
       "cell_index": 12
      }
     ]
    },
    "6c26832dd59c4085afb9e16ca91dded3": {
     "views": [
      {
       "cell_index": 12
      }
     ]
    },
    "6f1c309913b145918c0bc2bcf5fc4dda": {
     "views": [
      {
       "cell_index": 12
      }
     ]
    },
    "753f71ece863411898f375185a303c0b": {
     "views": [
      {
       "cell_index": 12
      }
     ]
    },
    "7f94e10647e94286b7bacdd3a1cd3c79": {
     "views": [
      {
       "cell_index": 12
      }
     ]
    },
    "896a590c80494ed1863f0df52c28f043": {
     "views": [
      {
       "cell_index": 12
      }
     ]
    },
    "8c650c43d53b4be6980f72259aea4376": {
     "views": [
      {
       "cell_index": 12
      }
     ]
    },
    "90ccae92d15d4361ac0a3a7abd6fe6b1": {
     "views": [
      {
       "cell_index": 12
      }
     ]
    },
    "9195ab7646a840cea3157e85d270447f": {
     "views": [
      {
       "cell_index": 12
      }
     ]
    },
    "932553ca255142a69487596e844cd375": {
     "views": [
      {
       "cell_index": 12
      }
     ]
    },
    "98cf00601d904fb295bc1d3455dff7b1": {
     "views": [
      {
       "cell_index": 13
      }
     ]
    },
    "9b553d6552dc44dd98887c6674d113b9": {
     "views": [
      {
       "cell_index": 12
      }
     ]
    },
    "9e44040b6c514525bb4fa96d1b6b1c79": {
     "views": [
      {
       "cell_index": 12
      }
     ]
    },
    "a3051e6b36824fc1aee34d6488c29fef": {
     "views": [
      {
       "cell_index": 12
      }
     ]
    },
    "a41145f8da764ff58c68f441fae83f04": {
     "views": [
      {
       "cell_index": 12
      }
     ]
    },
    "a523dc139e1342d3a002f4807b3b38a2": {
     "views": [
      {
       "cell_index": 12
      }
     ]
    },
    "ab7424381ffa4e77aa313a38882799e2": {
     "views": [
      {
       "cell_index": 12
      }
     ]
    },
    "adf2439b2db545deae7a089d139b9f89": {
     "views": [
      {
       "cell_index": 12
      }
     ]
    },
    "ae8068c9ef444ffd8445ca9c66e6daae": {
     "views": [
      {
       "cell_index": 12
      }
     ]
    },
    "b4faa84b4b864e8a9a31f81cf925941b": {
     "views": [
      {
       "cell_index": 13
      }
     ]
    },
    "b585b2f07dcf4613a35fc5cb9f5a8265": {
     "views": [
      {
       "cell_index": 12
      }
     ]
    },
    "bc24b35496b048fc83651f0f914dd3a9": {
     "views": [
      {
       "cell_index": 13
      }
     ]
    },
    "bd52a2c1af81417bb59041cb9187dc84": {
     "views": [
      {
       "cell_index": 12
      }
     ]
    },
    "c047de2b786d4ba3b7d2874d44ce1bfe": {
     "views": [
      {
       "cell_index": 12
      }
     ]
    },
    "c5f1d4bb29a945b4901db14e6adfe21f": {
     "views": [
      {
       "cell_index": 12
      }
     ]
    },
    "c70d88059a59404fb931ca1e62eb1abf": {
     "views": [
      {
       "cell_index": 12
      }
     ]
    },
    "c7dbde8f5f9e422aa7d2ee0d6f05937d": {
     "views": [
      {
       "cell_index": 12
      }
     ]
    },
    "d4578e7b8cf4454790db5b461925b046": {
     "views": [
      {
       "cell_index": 12
      }
     ]
    },
    "d6fddf76f5104e8f92503899b4d02a56": {
     "views": [
      {
       "cell_index": 13
      }
     ]
    },
    "dc6b837450fc4222b9b098f3be226c8e": {
     "views": [
      {
       "cell_index": 12
      }
     ]
    },
    "de459b813d8b47beb49021aeb209c684": {
     "views": [
      {
       "cell_index": 12
      }
     ]
    },
    "e809cfa00c4341869feb417c2dc180c8": {
     "views": [
      {
       "cell_index": 12
      }
     ]
    },
    "e8160014c19e4ad9b603ab6cae590d4e": {
     "views": [
      {
       "cell_index": 12
      }
     ]
    },
    "e999a2ef680046b8ac823da7e500d05a": {
     "views": [
      {
       "cell_index": 12
      }
     ]
    },
    "e9c4e2ec2e444ec5b84e64c394153894": {
     "views": [
      {
       "cell_index": 12
      }
     ]
    },
    "eac9a74f2eb8479eb702874f50465599": {
     "views": [
      {
       "cell_index": 13
      }
     ]
    },
    "f7dd9204b7424124bd50f1047d19884d": {
     "views": [
      {
       "cell_index": 12
      }
     ]
    },
    "f81fed0b9e9245a1bc5f2f8f9454df72": {
     "views": [
      {
       "cell_index": 12
      }
     ]
    },
    "f844d730a49746a79f5d59601ee32677": {
     "views": [
      {
       "cell_index": 12
      }
     ]
    },
    "fbdc8b22b0a34e1fa6cfc9831b11112e": {
     "views": [
      {
       "cell_index": 12
      }
     ]
    }
   },
   "version": "1.2.0"
  }
 },
 "nbformat": 4,
 "nbformat_minor": 2
}

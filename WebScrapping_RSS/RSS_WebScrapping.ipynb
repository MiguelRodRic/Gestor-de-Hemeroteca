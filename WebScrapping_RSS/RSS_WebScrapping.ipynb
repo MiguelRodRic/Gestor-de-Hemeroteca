{
 "cells": [
  {
   "cell_type": "code",
   "execution_count": 50,
   "metadata": {
    "extensions": {
     "jupyter_dashboards": {
      "version": 1,
      "views": {
       "grid_default": {
        "col": 0,
        "height": 5,
        "hidden": false,
        "row": 0,
        "width": 4
       },
       "report_default": {}
      }
     }
    }
   },
   "outputs": [
    {
     "data": {
      "application/vnd.jupyter.widget-view+json": {
       "model_id": "7c06137b58b24e0e86c51e5b844395ed"
      }
     },
     "metadata": {},
     "output_type": "display_data"
    },
    {
     "data": {
      "application/vnd.jupyter.widget-view+json": {
       "model_id": "99361f219e3140da909a28ef6361c9b9"
      }
     },
     "metadata": {},
     "output_type": "display_data"
    },
    {
     "data": {
      "application/javascript": [
       "                var tabla = document.getElementsByTagName(\"td\");\n",
       "                for(var i=0; i < tabla.length; i++){\n",
       "                tabla[i].style.background= '#D3F1F1'; tabla[i].style.textAlign = 'center'; tabla[i].style.height = '100px !important';}\n",
       "                var encabezados = document.getElementsByTagName(\"th\");\n",
       "                for(var i=0; i < encabezados.length; i++){ encabezados[i].style.textAlign = 'center';encabezados[i].style.background = '#58AFFB';} \n",
       "                var tablaEntera = document.getElementsByTagName(\"table\");\n",
       "                for(var i=0; i < tablaEntera.length; i++){ tablaEntera[i].style.offsetWidth = '800px !important';}"
      ],
      "text/plain": [
       "<IPython.core.display.Javascript object>"
      ]
     },
     "metadata": {},
     "output_type": "display_data"
    }
   ],
   "source": [
    "from IPython.display import display\n",
    "from IPython.display import clear_output\n",
    "from IPython.display import HTML\n",
    "from IPython.display import Javascript\n",
    "from ipywidgets import widgets\n",
    "from bs4 import BeautifulSoup\n",
    "import pandas as pd\n",
    "import numpy as np\n",
    "import re\n",
    "import feedparser\n",
    "import pymongo\n",
    "from pymongo import MongoClient\n",
    "\n",
    "\n",
    "cliente = MongoClient()\n",
    "db = cliente.test_database\n",
    "noticias = db.noticias\n",
    "\n",
    "dropDownSites = widgets.Dropdown(options=[u'El País',u'ElDiario',u'Público', u'El Mundo'], value='ElDiario',\n",
    "                                 description='Elige un medio: ', disabled=False, button_style='info')\n",
    "textBox = widgets.Text()\n",
    "label = widgets.Label(value='Introduzca la palabra clave:',)\n",
    "button = widgets.Button(description=\"Buscar\")\n",
    "containerRequest = widgets.VBox(children=[dropDownSites,label, textBox,button])\n",
    "container = None\n",
    "textRSS = None\n",
    "fuente = None\n",
    "\n",
    "pd.options.display.max_colwidth = 200\n",
    "\n",
    "def apply_Style():\n",
    "    Javascript(\"\"\"tabla = document.getElementsByTagName(\\\"td\\\");\n",
    "                for(var i=0; i < tabla.length; i++){\n",
    "                tabla[i].style.background= '#D3F1F1'; tabla[i].style.textAlign = 'center'; tabla[i].style.height = '100px !important';}\n",
    "                var encabezados = document.getElementsByTagName(\\\"th\\\");\n",
    "                for(var i=0; i < encabezados.length; i++){ encabezados[i].style.textAlign = 'center';encabezados[i].style.background = '#58AFFB';} \n",
    "                var tablaEntera = document.getElementsByTagName(\\\"table\\\");\n",
    "                for(var i=0; i < tablaEntera.length; i++){ tablaEntera[i].style.offsetWidth = '800px !important';}\"\"\")\n",
    "\n",
    "def handle_submit(sender):\n",
    "    global textRSS\n",
    "    etiqueta = None\n",
    "    if(dropDownSites.value == u'ElDiario'):\n",
    "        textRSS = feedparser.parse('http://www.eldiario.es/rss/')\n",
    "        etiqueta = 'summary'\n",
    "        fuente = 'ElDiario'\n",
    "    elif (dropDownSites.value == u'El País'):\n",
    "        textRSS = feedparser.parse('http://ep00.epimg.net/rss/sociedad/portada.xml')\n",
    "        etiqueta = 'summary'\n",
    "        fuente = 'El Pais'\n",
    "    elif (dropDownSites.value == u'Público'):\n",
    "        textRSS = feedparser.parse('http://www.publico.es/rss/')\n",
    "        #print textRSS['entries'][1]['summary_detail']['value']\n",
    "        etiqueta = 'description'\n",
    "        fuente = 'Publico'\n",
    "    elif(dropDownSites.value == u'El Mundo'):\n",
    "        textRSS = feedparser.parse('http://www.elmundo.es/rss/portada.xml')\n",
    "        etiqueta = 'summary'\n",
    "        fuente ='ElMundo'\n",
    "    titulares = []\n",
    "    textos = []\n",
    "    fechas = []\n",
    "    autores = []\n",
    "    for entry in textRSS['entries']:\n",
    "        try:\n",
    "            soup = BeautifulSoup(entry[etiqueta], \"lxml\")\n",
    "            if(textBox.value != ''):\n",
    "                for palabra in soup.text.split(' '):\n",
    "                    if(textBox.value in palabra):            \n",
    "                        titulares.append(entry['title'])\n",
    "                        fechas.append(entry['published'])\n",
    "                        autores.append(entry['author'])\n",
    "                        if(fuente != 'ElMundo'):\n",
    "                            textos.append(soup.text)\n",
    "                        else:\n",
    "                            noticiaSoup = feedparser.parse(entry['links'][0]['href'])\n",
    "                            if(BeautifulSoup(noticiaSoup['feed']['summary'])):\n",
    "                                noticiaSoup = BeautifulSoup(noticiaSoup['feed']['summary'])\n",
    "                            if(noticiaSoup.find('article')):\n",
    "                                textos.append(noticiaSoup.find('article').text)\n",
    "                                \n",
    "\n",
    "                            \n",
    "            else:\n",
    "                titulares.append(entry['title'])\n",
    "                fechas.append(entry['published'])\n",
    "                autores.append(entry['author'])\n",
    "                if(fuente != 'ElMundo'):\n",
    "                    textos.append(soup.text)\n",
    "                else:\n",
    "                    noticiaSoup = feedparser.parse(entry['links'][0]['href'])\n",
    "                    if(BeautifulSoup(noticiaSoup['feed']['summary'])):\n",
    "                        noticiaSoup = BeautifulSoup(noticiaSoup['feed']['summary'])\n",
    "                    if(noticiaSoup.find('article')):\n",
    "                        textos.append(noticiaSoup.find('article').text)\n",
    "                        \n",
    "                    \n",
    "        except:\n",
    "            pass\n",
    "    idInsertadas = [None]*len(titulares)\n",
    "    for titular in titulares:\n",
    "        indice = titulares.index(titular)\n",
    "        autor = autores[indice]\n",
    "        fecha = fechas[indice]\n",
    "        texto = textos[indice].encode('utf-8').decode('utf-8')\n",
    "        noticia = { 'author': autor, 'title':titular,\n",
    "                    'publishDate':fecha, 'text':texto, 'source':'RSS'}\n",
    "        idInsertadas[titulares.index(titular)]= noticias.update_one( {'title':titular},{ '$set': {'author': autor, 'title':titular,\n",
    "                    'publishDate':fecha, 'text':texto, 'source':fuente}}, upsert=True)\n",
    "    df = pd.DataFrame({'titular':titulares, 'texto':textos, 'fecha':fechas, 'autor':autores})\n",
    "    df = df.reset_index(drop=True)\n",
    "    htmlDF = df.to_html(escape=False)\n",
    "    htmlTabla = widgets.HTML(value= htmlDF)\n",
    "    global container \n",
    "    if container is not None:\n",
    "        container.close()\n",
    "    container = widgets.VBox(children=[htmlTabla])\n",
    "    display(container)\n",
    "    display(Javascript(\"\"\"                var tabla = document.getElementsByTagName(\\\"td\\\");\n",
    "                for(var i=0; i < tabla.length; i++){\n",
    "                tabla[i].style.background= '#D3F1F1'; tabla[i].style.textAlign = 'center'; tabla[i].style.height = '100px !important';}\n",
    "                var encabezados = document.getElementsByTagName(\\\"th\\\");\n",
    "                for(var i=0; i < encabezados.length; i++){ encabezados[i].style.textAlign = 'center';encabezados[i].style.background = '#58AFFB';} \n",
    "                var tablaEntera = document.getElementsByTagName(\\\"table\\\");\n",
    "                for(var i=0; i < tablaEntera.length; i++){ tablaEntera[i].style.offsetWidth = '800px !important';}\"\"\"))\n",
    "    \n",
    "button.on_click(handle_submit)\n",
    "display(containerRequest)\n",
    "\n"
   ]
  },
  {
   "cell_type": "code",
   "execution_count": 29,
   "metadata": {
    "extensions": {
     "jupyter_dashboards": {
      "version": 1,
      "views": {
       "grid_default": {
        "hidden": true
       },
       "report_default": {}
      }
     }
    }
   },
   "outputs": [
    {
     "data": {
      "application/javascript": [
       "                var tabla = document.getElementsByTagName(\"td\");\n",
       "                for(var i=0; i < tabla.length; i++){\n",
       "                tabla[i].style.background= '#D3F1F1'; tabla[i].style.textAlign = 'center'; tabla[i].style.height = '100px !important';}\n",
       "                var encabezados = document.getElementsByTagName(\"th\");\n",
       "                for(var i=0; i < encabezados.length; i++){ encabezados[i].style.textAlign = 'center';encabezados[i].style.background = '#58AFFB';} \n",
       "                var tablaEntera = document.getElementsByTagName(\"table\");\n",
       "                for(var i=0; i < tablaEntera.length; i++){ tablaEntera[i].style.offsetWidth = '800px !important';}"
      ],
      "text/plain": [
       "<IPython.core.display.Javascript object>"
      ]
     },
     "execution_count": 29,
     "metadata": {},
     "output_type": "execute_result"
    }
   ],
   "source": []
  },
  {
   "cell_type": "code",
   "execution_count": null,
   "metadata": {
    "collapsed": true,
    "extensions": {
     "jupyter_dashboards": {
      "version": 1,
      "views": {
       "grid_default": {
        "hidden": true
       },
       "report_default": {}
      }
     }
    }
   },
   "outputs": [],
   "source": []
  },
  {
   "cell_type": "code",
   "execution_count": null,
   "metadata": {
    "collapsed": true,
    "extensions": {
     "jupyter_dashboards": {
      "version": 1,
      "views": {
       "grid_default": {
        "hidden": true
       },
       "report_default": {}
      }
     }
    }
   },
   "outputs": [],
   "source": []
  }
 ],
 "metadata": {
  "extensions": {
   "jupyter_dashboards": {
    "activeView": "grid_default",
    "version": 1,
    "views": {
     "grid_default": {
      "cellMargin": 10,
      "defaultCellHeight": 20,
      "maxColumns": 12,
      "name": "grid",
      "type": "grid"
     },
     "report_default": {
      "name": "report",
      "type": "report"
     }
    }
   }
  },
  "kernelspec": {
   "display_name": "Python 2",
   "language": "python",
   "name": "python2"
  },
  "language_info": {
   "codemirror_mode": {
    "name": "ipython",
    "version": 2
   },
   "file_extension": ".py",
   "mimetype": "text/x-python",
   "name": "python",
   "nbconvert_exporter": "python",
   "pygments_lexer": "ipython2",
   "version": "2.7.12"
  },
  "widgets": {
   "state": {
    "2271af987db6441cb99a80b030c5541e": {
     "views": [
      {
       "cell_index": 2
      }
     ]
    },
    "8e1a0527c98f4d6b86f9883ba3c05956": {
     "views": [
      {
       "cell_index": 2
      }
     ]
    },
    "c60c2d0289d5435daf6cd8a49dc6b1d8": {
     "views": [
      {
       "cell_index": 2
      }
     ]
    }
   },
   "version": "1.2.0"
  }
 },
 "nbformat": 4,
 "nbformat_minor": 2
}

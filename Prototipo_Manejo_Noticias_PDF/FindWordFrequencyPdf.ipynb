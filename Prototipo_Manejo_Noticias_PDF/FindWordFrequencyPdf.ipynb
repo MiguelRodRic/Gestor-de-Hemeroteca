{
 "cells": [
  {
   "cell_type": "code",
   "execution_count": null,
   "metadata": {
    "collapsed": true
   },
   "outputs": [],
   "source": [
    "from IPython.display import display\n",
    "import fileupload\n",
    "from pdfminer.pdfinterp import PDFResourceManager, PDFPageInterpreter\n",
    "from pdfminer.converter import TextConverter\n",
    "from pdfminer.layout import LAParams\n",
    "from pdfminer.pdfpage import PDFPage\n",
    "from cStringIO import StringIO\n",
    "from ipywidgets import widgets\n",
    "\n",
    "uploader = fileupload.FileUploadWidget()\n",
    "rsrcmgr = PDFResourceManager()\n",
    "retstr = StringIO()\n",
    "codec = 'utf-8'\n",
    "laparams = LAParams()\n",
    "device = TextConverter(rsrcmgr, retstr, codec=codec, laparams=laparams)\n",
    "textBox = widgets.Text()\n",
    "button = widgets.Button(description=\"Buscar\")\n",
    "label = widgets.Label(value='Introduzca la palabra que desea buscar')\n",
    "\n",
    "def _handle_upload(change):\n",
    "    w = change['owner']\n",
    "    with open(w.filename, 'wb') as f:\n",
    "        f.write(w.data)\n",
    "    pdfLocal = w.filename\n",
    "    fp = file(pdfLocal, 'rb')\n",
    "    interpreter = PDFPageInterpreter(rsrcmgr, device)\n",
    "    password = \"\"\n",
    "    maxpages = 0\n",
    "    caching = True\n",
    "    pagenos=set()\n",
    "    for page in PDFPage.get_pages(fp, pagenos, maxpages=maxpages, password=password,caching=caching, check_extractable=True):\n",
    "        interpreter.process_page(page)\n",
    "    text = retstr.getvalue()\n",
    "    fp.close()\n",
    "    device.close()\n",
    "    retstr.close()\n",
    "    global paragraphs\n",
    "    paragraphs = text.split(\".\\n\")\n",
    "    display(label)\n",
    "    display(textBox)\n",
    "    display(button)\n",
    "    \n",
    "    \n",
    "def handle_submit(sender):\n",
    "    palabra_buscada = textBox.value\n",
    "    palabras = [None] * len(paragraphs)\n",
    "    for paragraph in paragraphs:\n",
    "        palabras[paragraphs.index(paragraph)] = paragraph.split(\" \");\n",
    "    contador = 0\n",
    "    for parrafo in palabras:\n",
    "        contadorParrafo = 0\n",
    "        for palabra in parrafo:\n",
    "            if(palabra_buscada.encode('utf8') in palabra):\n",
    "                contador += 1\n",
    "                contadorParrafo+=1\n",
    "        print 'la palabra \"%s\" aparece %d veces en el parrafo %d' % (palabra_buscada,contadorParrafo, palabras.index(parrafo))\n",
    "    print '\\nla palabra \"%s\" aparece %d veces en total' % (palabra_buscada,contador)\n",
    "\n",
    "\n",
    "\n",
    "uploader.observe(_handle_upload, names='data')\n",
    "button.on_click(handle_submit)\n",
    "\n",
    "display(uploader)"
   ]
  }
 ],
 "metadata": {
  "kernelspec": {
   "display_name": "Python 2",
   "language": "python",
   "name": "python2"
  },
  "language_info": {
   "codemirror_mode": {
    "name": "ipython",
    "version": 2
   },
   "file_extension": ".py",
   "mimetype": "text/x-python",
   "name": "python",
   "nbconvert_exporter": "python",
   "pygments_lexer": "ipython2",
   "version": "2.7.12"
  }
 },
 "nbformat": 4,
 "nbformat_minor": 2
}

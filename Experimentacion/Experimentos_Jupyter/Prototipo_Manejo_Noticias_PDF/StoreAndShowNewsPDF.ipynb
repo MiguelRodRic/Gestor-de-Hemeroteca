{
 "cells": [
  {
   "cell_type": "code",
   "execution_count": 1,
   "metadata": {
    "collapsed": false,
    "deletable": true,
    "editable": true
   },
   "outputs": [],
   "source": [
    "#!/usr/bin/env python\n",
    "# -*- coding: utf-8 -*-\n",
    "from IPython.display import display\n",
    "import fileupload\n",
    "from pdfminer.pdfparser import PDFParser\n",
    "from pdfminer.pdfdocument import PDFDocument\n",
    "from pdfminer.pdfinterp import PDFResourceManager, PDFPageInterpreter\n",
    "from pdfminer.converter import TextConverter\n",
    "from pdfminer.layout import LAParams\n",
    "from pdfminer.pdfpage import PDFPage\n",
    "from cStringIO import StringIO\n",
    "from ipywidgets import widgets\n",
    "import time\n",
    "import os\n",
    "import io\n",
    "import pymongo\n",
    "from pymongo import MongoClient\n",
    "\n",
    "uploader = fileupload.FileUploadWidget()\n",
    "\n",
    "ruta = \"/home/miguel/Escritorio/Jupyter/NOTICIAS EMAKUNDE\"\n",
    "ficheros = []\n",
    "nombres = []\n",
    "\n",
    "def lookForPdf(path):\n",
    "    for filename in os.listdir(path):\n",
    "        if filename.endswith(\".pdf\"):\n",
    "            ficheros.append(path + '/' + filename)\n",
    "            nombres.append(filename.replace(\".pdf\",\"\"))\n",
    "            #print filename\n",
    "        elif \".\" not in filename:\n",
    "            lookForPdf(path+'/'+filename)\n",
    "\n",
    "\n",
    "\n",
    "lookForPdf(ruta)\n",
    "textos = [None]*len(ficheros)\n",
    "autores =[None]*len(ficheros)\n",
    "fechas = [None]*len(ficheros)\n",
    "                \n",
    "for registro in ficheros:\n",
    "    rsrcmgr = PDFResourceManager()\n",
    "    retstr = StringIO()\n",
    "    codec = 'utf-8'\n",
    "    laparams = LAParams()\n",
    "    device = TextConverter(rsrcmgr, retstr, codec=codec, laparams=laparams)\n",
    "    pdfLocal = registro\n",
    "    fp = file(pdfLocal, 'rb')\n",
    "    parser = PDFParser(fp)\n",
    "    doc = PDFDocument(parser)\n",
    "    #print str(doc.info).decode().encode('utf-8')\n",
    "    fechaAux = doc.info[0].get('CreationDate', None)\n",
    "    fechas[ficheros.index(registro)] = fechaAux[2:6]+'-'+fechaAux[6:8]+'-'+fechaAux[8:10]+' '+fechaAux[10:12]+':'+fechaAux[12:14]+':'+fechaAux[14:16]\n",
    "    autores[ficheros.index(registro)] = doc.info[0].get('Author', None)\n",
    "    interpreter = PDFPageInterpreter(rsrcmgr, device)\n",
    "    password = \"\"\n",
    "    maxpages = 0\n",
    "    caching = True\n",
    "    pagenos=set()\n",
    "    for page in PDFPage.get_pages(fp, pagenos, maxpages=maxpages, password=password,caching=caching, check_extractable=True):\n",
    "        interpreter.process_page(page)\n",
    "    text = retstr.getvalue()\n",
    "    textos[ficheros.index(registro)] = text\n",
    "    fp.close()\n",
    "    device.close()\n",
    "    retstr.close()\n",
    "\n",
    "\n",
    "cliente = MongoClient()\n",
    "db = cliente.test_database\n",
    "noticias = db.noticias\n",
    "for texto in textos:\n",
    "    indice = textos.index(texto)\n",
    "    autor = autores[indice][2:len( autores[indice])]\n",
    "    nombre = nombres[indice]\n",
    "    fecha = fechas[indice]\n",
    "    fichero = ficheros[indice]\n",
    "    noticia = { 'author': autor, 'title':nombre,\n",
    "               'link':fichero, 'publishDate':fecha, 'text':texto, 'source':'pdf', 'comentarios':''}\n",
    "    noticia_id = noticias.insert_one(noticia)"
   ]
  },
  {
   "cell_type": "code",
   "execution_count": 4,
   "metadata": {
    "collapsed": false,
    "deletable": true,
    "editable": true
   },
   "outputs": [],
   "source": [
    "import pandas as pd\n",
    "import numpy as np\n",
    "import qgrid\n",
    "import re\n",
    "from IPython.display import display\n",
    "from IPython.display import HTML\n",
    "from ipywidgets import widgets\n",
    "\n",
    "style_margin_title = dict (margin = '10px 10px 0px 25%')\n",
    "style_margin_label = dict (margin = '20px 10px 0px 30%')\n",
    "style_margin_button = dict (margin = '20px 10px 10px 33%')\n",
    "style_margin_text = dict (margin = '20px 10px 1px 20%')\n",
    "style_margin_label_result = dict (margin = '20px 10px 0px 37%',font_size='')\n",
    "\n",
    "qgrid.nbinstall(overwrite=True)\n",
    "qgrid.set_defaults(remote_js=True, precision=2)\n",
    "\n",
    "layoutContainer = widgets.Layout(display='flex',align_items='center',\n",
    "                                 width='50%', flex_direction='column', justify_content='space-between', margin='0px 0px 0px 25%')\n",
    "titulo = widgets.HTML(value=\"<label style=\\\"font-size:larger\\\"><strong>Buscador de noticias de pdf<strong></label>\", **style_margin_title)\n",
    "textBox = widgets.Text(**style_margin_text)\n",
    "button = widgets.Button(description=\"Buscar\", **style_margin_button)\n",
    "label = widgets.Label(value='Introduzca la palabra clave:',**style_margin_label)\n",
    "html = widgets.HTML(value=\"<script type=text/javascript>\"\n",
    "                    + \"var labels = document.getElementsByTagName('label');\"\n",
    "     + \"for(var i = 0; i < labels.length; i++){\"\n",
    "     + \"labels[i].style.color=\\\"red\\\";}</script>\")\n",
    "container = widgets.VBox(children=[titulo, label,textBox,button,html], layout=layoutContainer)\n",
    "container.layout.border = '2px grey solid'\n",
    "\n",
    "\n",
    "\n",
    "def handle_submit(sender):\n",
    "    pat = re.compile(textBox.value, re.I)\n",
    "    pat2 = re.compile('pdf', re.I)\n",
    "    filas = []\n",
    "    cursor = db.noticias.find({\"text\":{'$regex':pat}, \"source\":{'$regex':pat2}},\n",
    "                              {\"author\":1,\"link\":1, \"title\":1, \"text\":1, \"publishDate\":1, \"source\":1})\n",
    "    for estructura in cursor:\n",
    "        contador = 0\n",
    "        for palabra in estructura['text'].split(' '):\n",
    "            if(textBox.value in palabra):\n",
    "                contador += 1\n",
    "        filas.append({\"fecha publicación\":estructura[\"publishDate\"],\"autor\":estructura[\"author\"], \"nombre Archivo\":estructura[\"title\"],\n",
    "                      \"fichero\":estructura[\"link\"], \"apariciones\":contador, \"fuente\":estructura[\"source\"]})\n",
    "\n",
    "    df = pd.DataFrame(filas)\n",
    "    df.set_index('apariciones', inplace=True)\n",
    "    \n",
    "    labelNoticia = widgets.Label(value='Noticias con la palabra clave: '+ textBox.value, **style_margin_label_result)\n",
    "    display(labelNoticia)\n",
    "    qgrid.show_grid(df, grid_options={'fullWidthRows':True,'syncColumnCellResize':True,\n",
    "                                       'forceFitColumns':True,'rowHeight':40,'enableColumnReorder':True,\n",
    "                                       'enableTextSelectionOnCells':True,'editable':True})\n",
    "    #display(HTML(df.to_html(escape=True)))\n",
    "\n",
    "    \n",
    "button.on_click(handle_submit)\n",
    "display(container)\n",
    "\n",
    "#display(label)\n",
    "#display(textBox)\n",
    "#display(button)\n"
   ]
  },
  {
   "cell_type": "code",
   "execution_count": null,
   "metadata": {
    "collapsed": true,
    "deletable": true,
    "editable": true
   },
   "outputs": [],
   "source": []
  }
 ],
 "metadata": {
  "kernelspec": {
   "display_name": "Python 2",
   "language": "python",
   "name": "python2"
  },
  "language_info": {
   "codemirror_mode": {
    "name": "ipython",
    "version": 2
   },
   "file_extension": ".py",
   "mimetype": "text/x-python",
   "name": "python",
   "nbconvert_exporter": "python",
   "pygments_lexer": "ipython2",
   "version": "2.7.12"
  },
  "widgets": {
   "state": {
    "44a7cbfd66494dee806d8b67353ac39c": {
     "views": [
      {
       "cell_index": 1
      }
     ]
    },
    "4941119c24de4cb98d8ef8a89a3d9de5": {
     "views": [
      {
       "cell_index": 1
      }
     ]
    },
    "5b43ce4e811e407893c643229978bd7b": {
     "views": [
      {
       "cell_index": 1
      }
     ]
    },
    "e5f81681b85d4c13a30e0553c39e4d00": {
     "views": [
      {
       "cell_index": 1
      }
     ]
    }
   },
   "version": "1.2.0"
  }
 },
 "nbformat": 4,
 "nbformat_minor": 2
}
